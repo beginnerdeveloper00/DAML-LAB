{
 "cells": [
  {
   "cell_type": "code",
   "execution_count": 4,
   "id": "34fc124a",
   "metadata": {},
   "outputs": [
    {
     "name": "stdout",
     "output_type": "stream",
     "text": [
      "[3.67030731 1.55124312 3.11272497 3.41158576 1.98404094 5.6288146\n",
      " 1.80996468 3.68819351 3.21088962 0.99366078 2.08657243 4.95954826\n",
      " 4.10310513 4.06296591 6.9804478  5.35220685 2.14459785 4.58040902\n",
      " 4.20126978 3.82649738 1.41293924 1.98404094 4.30380127 5.37445988\n",
      " 5.2540422  7.71210641 4.10747197 5.33432066 2.34092714 2.99230729] \n",
      "\n",
      "Mean Absolute Error: 0.56697676004908\n",
      "Mean Squared Error: 0.45976164169814854\n",
      "RMSE: 0.6780572554719465\n",
      "[2.102128   1.19882287 5.17336547 3.54741622 3.3667552  5.3540265\n",
      " 4.63138239 4.27006033 3.18609417 3.00543314 2.46345006 2.28278903\n",
      " 3.54741622 4.27006033 4.81204341 2.102128   4.63138239 2.28278903\n",
      " 5.3540265  2.28278903 1.01816184 3.54741622 4.45072136 6.07667061\n",
      " 4.63138239 2.64411109 2.28278903 3.3667552  4.08939931 2.28278903] \n",
      "\n"
     ]
    }
   ],
   "source": [
    "import numpy as np\n",
    "import pandas as pd\n",
    "from sklearn.datasets import load_iris\n",
    "from sklearn.model_selection import train_test_split\n",
    "from sklearn.linear_model import LinearRegression\n",
    "from sklearn import metrics\n",
    "\n",
    "# Load iris dataset and convert to DataFrame\n",
    "iris_raw = load_iris(as_frame=True)\n",
    "iris = iris_raw.frame\n",
    "iris['SepalLengthCm'] = iris['sepal length (cm)']\n",
    "iris['SepalWidthCm'] = iris['sepal width (cm)']\n",
    "iris['PetalLengthCm'] = iris['petal length (cm)']\n",
    "\n",
    "# Multiple Linear Regression\n",
    "x = iris[['SepalLengthCm', 'SepalWidthCm']]\n",
    "y = iris.PetalLengthCm\n",
    "x_train, x_test, y_train, y_test = train_test_split(x, y, test_size=0.2)\n",
    "LR = LinearRegression()\n",
    "training = LR.fit(x_train, y_train)\n",
    "y_pred = LR.predict(x_test)\n",
    "print(y_pred, \"\\n\")\n",
    "\n",
    "MAE = metrics.mean_absolute_error(y_test, y_pred)\n",
    "print(\"Mean Absolute Error:\", MAE)\n",
    "MSE = metrics.mean_squared_error(y_test, y_pred)\n",
    "print(\"Mean Squared Error:\", MSE)\n",
    "RMSE = np.sqrt(metrics.mean_squared_error(y_test, y_pred))\n",
    "print(\"RMSE:\", RMSE)\n",
    "\n",
    "# Simple Linear Regression\n",
    "x = iris[['SepalLengthCm']]\n",
    "y = iris.PetalLengthCm\n",
    "x_train, x_test, y_train, y_test = train_test_split(x, y, test_size=0.2)\n",
    "LR = LinearRegression()\n",
    "training = LR.fit(x_train, y_train)\n",
    "y_pred = LR.predict(x_test)\n",
    "print(y_pred, \"\\n\")"
   ]
  },
  {
   "cell_type": "code",
   "execution_count": null,
   "id": "3f42d50f",
   "metadata": {},
   "outputs": [],
   "source": []
  }
 ],
 "metadata": {
  "kernelspec": {
   "display_name": "Python 3",
   "language": "python",
   "name": "python3"
  },
  "language_info": {
   "codemirror_mode": {
    "name": "ipython",
    "version": 3
   },
   "file_extension": ".py",
   "mimetype": "text/x-python",
   "name": "python",
   "nbconvert_exporter": "python",
   "pygments_lexer": "ipython3",
   "version": "3.10.3"
  }
 },
 "nbformat": 4,
 "nbformat_minor": 5
}
