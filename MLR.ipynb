{
 "cells": [
  {
   "cell_type": "code",
   "execution_count": 3,
   "id": "76326511",
   "metadata": {},
   "outputs": [
    {
     "name": "stdout",
     "output_type": "stream",
     "text": [
      "   SepalLengthCm  SepalWidthCm  PetalLengthCm  PetalWidthCm  Species\n",
      "0            5.1           3.5            1.4           0.2        0\n",
      "1            4.9           3.0            1.4           0.2        0\n",
      "2            4.7           3.2            1.3           0.2        0\n",
      "3            4.6           3.1            1.5           0.2        0\n",
      "4            5.0           3.6            1.4           0.2        0\n",
      "[4.10294053 1.55436458 4.65515577 4.51830631 5.34903785 4.13353987\n",
      " 2.04056377 1.96973036 1.8682976  3.41387582 2.07116311 3.13535952\n",
      " 5.17195431 3.92585699 2.17741324 4.893438   4.41205618 1.07298276\n",
      " 3.586142   1.67024945 5.75476889 4.20919066 7.30516448 4.96427142\n",
      " 5.30880377 2.47689415 5.37963719 1.69603142 2.10657982 5.06570418]\n"
     ]
    }
   ],
   "source": [
    "import pandas as pd\n",
    "import numpy as np\n",
    "from sklearn.model_selection import train_test_split\n",
    "from sklearn.linear_model import LinearRegression\n",
    "\n",
    "from sklearn.datasets import load_iris\n",
    "\n",
    "iris_data = load_iris(as_frame=True)\n",
    "iris = iris_data.frame\n",
    "iris.columns = ['SepalLengthCm', 'SepalWidthCm', 'PetalLengthCm', 'PetalWidthCm', 'Species']\n",
    "print(iris.head())\n",
    "\n",
    "x = iris[['SepalLengthCm', 'SepalWidthCm']]\n",
    "y = iris.PetalLengthCm\n",
    "\n",
    "x_train, x_test, y_train, y_test = train_test_split(x, y, test_size=0.2)\n",
    "LR = LinearRegression()\n",
    "training = LR.fit(x_train, y_train)\n",
    "y_pred = LR.predict(x_test)\n",
    "print(y_pred)"
   ]
  },
  {
   "cell_type": "code",
   "execution_count": null,
   "id": "5c969b3c",
   "metadata": {},
   "outputs": [],
   "source": []
  }
 ],
 "metadata": {
  "kernelspec": {
   "display_name": "Python 3",
   "language": "python",
   "name": "python3"
  },
  "language_info": {
   "codemirror_mode": {
    "name": "ipython",
    "version": 3
   },
   "file_extension": ".py",
   "mimetype": "text/x-python",
   "name": "python",
   "nbconvert_exporter": "python",
   "pygments_lexer": "ipython3",
   "version": "3.10.3"
  }
 },
 "nbformat": 4,
 "nbformat_minor": 5
}
